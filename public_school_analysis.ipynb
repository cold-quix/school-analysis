{
 "cells": [
  {
   "cell_type": "markdown",
   "id": "29492666-a5bf-416e-8d1b-1cd61539c518",
   "metadata": {},
   "source": [
    "# US School Analysis"
   ]
  },
  {
   "cell_type": "markdown",
   "id": "c64cbaad-1c75-4652-8376-e5e6c803e27d",
   "metadata": {},
   "source": [
    "## Imports"
   ]
  },
  {
   "cell_type": "code",
   "execution_count": null,
   "id": "55db3a45-7d63-4920-b183-cd2aa521a8c0",
   "metadata": {},
   "outputs": [],
   "source": [
    "# Include all your imports here\n",
    "\n"
   ]
  },
  {
   "cell_type": "markdown",
   "id": "4487526d",
   "metadata": {},
   "source": [
    "## Read Data"
   ]
  },
  {
   "cell_type": "code",
   "execution_count": null,
   "id": "f4867586-65ce-46cd-b110-7ff6761ba4a5",
   "metadata": {},
   "outputs": [],
   "source": [
    "# Load the Public school dataset\n",
    "\n"
   ]
  },
  {
   "cell_type": "code",
   "execution_count": null,
   "id": "ab574b7a-d060-4efb-9507-541e1082fa72",
   "metadata": {},
   "outputs": [],
   "source": [
    "# Load the Public school locations dataset\n",
    "\n"
   ]
  },
  {
   "cell_type": "code",
   "execution_count": null,
   "id": "9321098c-24d5-4349-9a0d-834d57dab400",
   "metadata": {},
   "outputs": [],
   "source": [
    "# Load the Public school data dictionary file\n",
    "\n"
   ]
  },
  {
   "cell_type": "markdown",
   "id": "9b5c714d-1c47-4532-b349-f31018c2ee7e",
   "metadata": {},
   "source": [
    "## Data Exploration and Preparation"
   ]
  },
  {
   "cell_type": "code",
   "execution_count": null,
   "id": "07b2ff0a-a818-4f2e-b115-2c23ebdb7347",
   "metadata": {},
   "outputs": [],
   "source": [
    "# Use an .isin() function to keep only fields that appear in the main public_school_data.csv and identify the unique id column \n",
    "\n"
   ]
  },
  {
   "cell_type": "code",
   "execution_count": null,
   "id": "88e8adad-acf9-4364-abbd-fc0f58478867",
   "metadata": {},
   "outputs": [],
   "source": [
    "# Ensure the column you selected is indeed a unique identifier by checking the number of uniqe values and comparing it to the number of rows in the dataframe\n",
    "\n",
    "\n"
   ]
  },
  {
   "cell_type": "code",
   "execution_count": null,
   "id": "b5895fe0-a0d2-4df1-b5f1-6a8ed3a8a3b0",
   "metadata": {},
   "outputs": [],
   "source": [
    "# Change the names of the unique ID column in both the location data and public school data to match and set them as index\n",
    "\n",
    "\n"
   ]
  },
  {
   "cell_type": "code",
   "execution_count": null,
   "id": "518cefb0-fec0-4c66-9d6f-1ecf6196acfc",
   "metadata": {},
   "outputs": [],
   "source": [
    "# Check your work"
   ]
  },
  {
   "cell_type": "code",
   "execution_count": null,
   "id": "b8fd0a6d-1c51-4db7-b7b9-8cb2e2c0b879",
   "metadata": {},
   "outputs": [],
   "source": [
    "# Check your work"
   ]
  },
  {
   "cell_type": "code",
   "execution_count": null,
   "id": "fe362bf6-9829-4c19-929b-a255ad8a004f",
   "metadata": {},
   "outputs": [],
   "source": [
    "# Join the location and data dataframes together\n",
    "\n"
   ]
  },
  {
   "cell_type": "code",
   "execution_count": null,
   "id": "136c325e-f07b-41cd-b5e9-9573675d5485",
   "metadata": {},
   "outputs": [],
   "source": [
    "# Get the value counts for the school type column\n"
   ]
  },
  {
   "cell_type": "code",
   "execution_count": null,
   "id": "99f87e68-5766-4965-b040-aabaa79ed96b",
   "metadata": {},
   "outputs": [],
   "source": [
    "# Create a subset of the dataframe that only includes regular schools ensure it was successful by comparing rows in the subset to the value counts above\n",
    "\n"
   ]
  },
  {
   "cell_type": "markdown",
   "id": "00a498d3-e82a-479a-b3f3-ca3d4a46e787",
   "metadata": {},
   "source": [
    "## Data Cleaning and dealing with nulls"
   ]
  },
  {
   "cell_type": "code",
   "execution_count": null,
   "id": "eb046205-7c50-431a-93ff-3ce3950d1668",
   "metadata": {},
   "outputs": [],
   "source": [
    "# Check for nulls and determine the best approach for dealing with them\n"
   ]
  },
  {
   "cell_type": "code",
   "execution_count": null,
   "id": "9b475f58-df81-4d29-8daf-486d62bceae5",
   "metadata": {},
   "outputs": [],
   "source": [
    "# Fill some of the columns with 0 where it makes sense\n",
    "\n"
   ]
  },
  {
   "cell_type": "code",
   "execution_count": null,
   "id": "5cad43d6-8d29-450e-8a24-c9e7524b3e99",
   "metadata": {},
   "outputs": [],
   "source": [
    "# Verify changes to nulls and prepare to drop na\n"
   ]
  },
  {
   "cell_type": "code",
   "execution_count": null,
   "id": "c579c438-11e1-417f-b7e4-16c4fd1aa3c0",
   "metadata": {},
   "outputs": [],
   "source": [
    "# Drop remaining nulls wher it would make sense\n",
    "\n"
   ]
  },
  {
   "cell_type": "code",
   "execution_count": null,
   "id": "f8fb04d0-79d1-4ea1-b995-be79190644b7",
   "metadata": {},
   "outputs": [],
   "source": [
    "# Verify changes to nulls and no nulls should remain\n"
   ]
  },
  {
   "cell_type": "markdown",
   "id": "94b0396d-1b61-492f-abe8-ed6ad3482f4d",
   "metadata": {},
   "source": [
    "## Plotting to help Clean the Data"
   ]
  },
  {
   "cell_type": "code",
   "execution_count": null,
   "id": "f33bc272-be71-43dc-9cfb-cde1edcb2fee",
   "metadata": {},
   "outputs": [],
   "source": [
    "# Plot a histogram of Total enrolled students and check for outliers\n"
   ]
  },
  {
   "cell_type": "code",
   "execution_count": null,
   "id": "ba8b0e8f-f81f-483e-9fca-0c6d06ccbaf3",
   "metadata": {},
   "outputs": [],
   "source": [
    "# Plot a histogram of Total Teachers and check for outliers\n"
   ]
  },
  {
   "cell_type": "code",
   "execution_count": null,
   "id": "aaf94346-5886-4517-b971-e07ad091bbc1",
   "metadata": {},
   "outputs": [],
   "source": [
    "# Plot a histogram of Student Teacher Ratio and check for outliers\n"
   ]
  },
  {
   "cell_type": "code",
   "execution_count": null,
   "id": "01b5a36c-7d94-48d0-8ac6-d2fd12e88d59",
   "metadata": {},
   "outputs": [],
   "source": [
    "# Re-Plot a histogram of Total enrolled students after removing 0s and outliers above the 99th quantile\n",
    "\n",
    "\n"
   ]
  },
  {
   "cell_type": "code",
   "execution_count": null,
   "id": "f2f104a9-1c7c-44bd-b3ca-694972a5838c",
   "metadata": {},
   "outputs": [],
   "source": [
    "# Re-Plot a histogram of Total Teachers after removing 0s and outliers above the 99th quantile\n",
    "\n",
    "\n"
   ]
  },
  {
   "cell_type": "code",
   "execution_count": null,
   "id": "5099b089-dd01-4015-a089-d7c8c5fe0a50",
   "metadata": {},
   "outputs": [],
   "source": [
    "# Re-Plot a histogram of Student Teacher Ratio after removing 0s and outliers above the 99th quantile\n",
    "\n",
    "\n"
   ]
  },
  {
   "cell_type": "markdown",
   "id": "be8a5465-1729-4224-8d67-a3bb7d2e36db",
   "metadata": {},
   "source": [
    "## Correlation Plot to Understand Data Relationships"
   ]
  },
  {
   "cell_type": "code",
   "execution_count": null,
   "id": "eba2a690-97c0-4cbb-8eee-e3f59ea2d7b7",
   "metadata": {},
   "outputs": [],
   "source": [
    "# Use seaborn to generate a correlation heatmap for the columns in the dataframe\n",
    "\n",
    "\n",
    "\n"
   ]
  },
  {
   "cell_type": "markdown",
   "id": "2c7d5297-4123-4304-828f-fab95f809b9e",
   "metadata": {},
   "source": [
    "## Geographic Plots"
   ]
  },
  {
   "cell_type": "code",
   "execution_count": null,
   "id": "ea105476-cb58-4e1b-b6e4-48f0dce896ae",
   "metadata": {},
   "outputs": [],
   "source": [
    "# Plot only schools from the 48 contiguous US states or the 50 US states (drop territories and PR)\n",
    "\n",
    "\n",
    "\n"
   ]
  },
  {
   "cell_type": "code",
   "execution_count": null,
   "id": "4d40e365-a229-4cb4-bff9-e1047a2ed42e",
   "metadata": {},
   "outputs": [],
   "source": [
    "# Plot only schools in your state\n",
    "\n",
    "\n",
    "\n"
   ]
  },
  {
   "cell_type": "markdown",
   "id": "6cfe5be1-7121-47e0-8aa8-7f08a7673ee5",
   "metadata": {},
   "source": [
    "## School Quality Analysis: Student/Teacher Ratios"
   ]
  },
  {
   "cell_type": "code",
   "execution_count": null,
   "id": "83b36d34-4510-486c-baeb-388a77761482",
   "metadata": {},
   "outputs": [],
   "source": [
    "# Use the dataframe that has filtered out the outliers in Student Teacher Ratio and group by state and get the average\n",
    "# Show the highest 5 Student/Teacher ratios and lowest 5 Student/Teacher ratios as well as the average for your state\n",
    "\n"
   ]
  },
  {
   "cell_type": "code",
   "execution_count": null,
   "id": "4506185c-6937-4f27-a89e-3521dcae2075",
   "metadata": {},
   "outputs": [],
   "source": [
    "# What is the mean of the Student/Teacher Ratio\n"
   ]
  },
  {
   "cell_type": "code",
   "execution_count": null,
   "id": "5b45a37e-99d6-45ab-bf2f-6aa088feb2a9",
   "metadata": {},
   "outputs": [],
   "source": [
    "# What is the standard deviation of the Student/Teacher Ratio\n"
   ]
  },
  {
   "cell_type": "code",
   "execution_count": null,
   "id": "ce2f701d-fbce-4634-a279-50812760740e",
   "metadata": {},
   "outputs": [],
   "source": [
    "# Plot the states ratios in descending order\n"
   ]
  },
  {
   "cell_type": "code",
   "execution_count": null,
   "id": "9c6cf9f8-ca2d-46c6-8ac6-38b934569d07",
   "metadata": {},
   "outputs": [],
   "source": [
    "# Plot a boxplot of the Student/Teacher Ratios\n"
   ]
  },
  {
   "cell_type": "code",
   "execution_count": null,
   "id": "7995326b-69ba-4e77-9a72-85ea5af21e47",
   "metadata": {},
   "outputs": [],
   "source": [
    "# List or Plot the Highest 5 states\n",
    "\n"
   ]
  },
  {
   "cell_type": "code",
   "execution_count": null,
   "id": "c713481a-8309-4af8-8b99-5210277ecfdf",
   "metadata": {},
   "outputs": [],
   "source": [
    "# List or plot the lowest 5\n",
    "\n"
   ]
  },
  {
   "cell_type": "code",
   "execution_count": null,
   "id": "506836d8-96e1-46fe-890a-53dcf9f4fa27",
   "metadata": {},
   "outputs": [],
   "source": [
    "# Print your state's Student Teacher Ratios\n",
    "\n"
   ]
  },
  {
   "cell_type": "markdown",
   "id": "c5483b02-4800-4861-be2c-5df701c7c236",
   "metadata": {},
   "source": [
    "## Summarize your findings from any of the analysis or plots above:\n",
    "* Were there any interesting Correlations?\n",
    "* How did your state compare to others?\n",
    "* Would you have made any different decisions in the earlier cleaning stages after becoming more familiar with the data?\n",
    "* What is going on in IL?\n",
    "* What other analysis could be done with this data?"
   ]
  },
  {
   "cell_type": "markdown",
   "id": "1ad4d2bc-989d-4dd9-9925-1cf1d6e737a1",
   "metadata": {},
   "source": [
    "## BONUS: Generate other interesting analysis or plots"
   ]
  },
  {
   "cell_type": "code",
   "execution_count": null,
   "id": "630d6d42-481b-4c57-ad6d-1fec27713850",
   "metadata": {},
   "outputs": [],
   "source": [
    "# Your code below\n"
   ]
  }
 ],
 "metadata": {
  "kernelspec": {
   "display_name": "Python 3 (ipykernel)",
   "language": "python",
   "name": "python3"
  },
  "language_info": {
   "codemirror_mode": {
    "name": "ipython",
    "version": 3
   },
   "file_extension": ".py",
   "mimetype": "text/x-python",
   "name": "python",
   "nbconvert_exporter": "python",
   "pygments_lexer": "ipython3",
   "version": "3.7.11"
  }
 },
 "nbformat": 4,
 "nbformat_minor": 5
}
