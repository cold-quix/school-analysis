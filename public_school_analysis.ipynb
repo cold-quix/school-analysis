{
 "cells": [
  {
   "cell_type": "markdown",
   "id": "29492666-a5bf-416e-8d1b-1cd61539c518",
   "metadata": {},
   "source": [
    "# US School Analysis"
   ]
  },
  {
   "cell_type": "markdown",
   "id": "c64cbaad-1c75-4652-8376-e5e6c803e27d",
   "metadata": {},
   "source": [
    "## Imports"
   ]
  },
  {
   "cell_type": "code",
   "execution_count": 62,
   "id": "55db3a45-7d63-4920-b183-cd2aa521a8c0",
   "metadata": {},
   "outputs": [],
   "source": [
    "# Include all your imports here\n",
    "import pandas as pd\n",
    "from pathlib import Path\n"
   ]
  },
  {
   "cell_type": "markdown",
   "id": "4487526d",
   "metadata": {},
   "source": [
    "## Read Data"
   ]
  },
  {
   "cell_type": "code",
   "execution_count": 63,
   "id": "f4867586-65ce-46cd-b110-7ff6761ba4a5",
   "metadata": {},
   "outputs": [
    {
     "data": {
      "text/html": [
       "<div>\n",
       "<style scoped>\n",
       "    .dataframe tbody tr th:only-of-type {\n",
       "        vertical-align: middle;\n",
       "    }\n",
       "\n",
       "    .dataframe tbody tr th {\n",
       "        vertical-align: top;\n",
       "    }\n",
       "\n",
       "    .dataframe thead th {\n",
       "        text-align: right;\n",
       "    }\n",
       "</style>\n",
       "<table border=\"1\" class=\"dataframe\">\n",
       "  <thead>\n",
       "    <tr style=\"text-align: right;\">\n",
       "      <th></th>\n",
       "      <th>NCESSCH</th>\n",
       "      <th>LSTATE</th>\n",
       "      <th>SCHOOL_LEVEL</th>\n",
       "      <th>SCHOOL_TYPE_TEXT</th>\n",
       "      <th>TOTAL</th>\n",
       "      <th>FTE</th>\n",
       "      <th>STUTERATIO</th>\n",
       "      <th>AM</th>\n",
       "      <th>AS</th>\n",
       "      <th>BL</th>\n",
       "      <th>HP</th>\n",
       "      <th>HI</th>\n",
       "      <th>TR</th>\n",
       "      <th>WH</th>\n",
       "    </tr>\n",
       "  </thead>\n",
       "  <tbody>\n",
       "    <tr>\n",
       "      <th>0</th>\n",
       "      <td>10000500870</td>\n",
       "      <td>AL</td>\n",
       "      <td>Middle</td>\n",
       "      <td>Regular school</td>\n",
       "      <td>908.0</td>\n",
       "      <td>42.0</td>\n",
       "      <td>21.62</td>\n",
       "      <td>2.0</td>\n",
       "      <td>4.0</td>\n",
       "      <td>33.0</td>\n",
       "      <td>0.0</td>\n",
       "      <td>469.0</td>\n",
       "      <td>29.0</td>\n",
       "      <td>371.0</td>\n",
       "    </tr>\n",
       "    <tr>\n",
       "      <th>1</th>\n",
       "      <td>10000500871</td>\n",
       "      <td>AL</td>\n",
       "      <td>High</td>\n",
       "      <td>Regular school</td>\n",
       "      <td>1606.0</td>\n",
       "      <td>82.0</td>\n",
       "      <td>19.59</td>\n",
       "      <td>1.0</td>\n",
       "      <td>6.0</td>\n",
       "      <td>70.0</td>\n",
       "      <td>0.0</td>\n",
       "      <td>785.0</td>\n",
       "      <td>38.0</td>\n",
       "      <td>706.0</td>\n",
       "    </tr>\n",
       "    <tr>\n",
       "      <th>2</th>\n",
       "      <td>10000500879</td>\n",
       "      <td>AL</td>\n",
       "      <td>Middle</td>\n",
       "      <td>Regular school</td>\n",
       "      <td>891.0</td>\n",
       "      <td>41.0</td>\n",
       "      <td>21.73</td>\n",
       "      <td>4.0</td>\n",
       "      <td>7.0</td>\n",
       "      <td>24.0</td>\n",
       "      <td>1.0</td>\n",
       "      <td>481.0</td>\n",
       "      <td>29.0</td>\n",
       "      <td>345.0</td>\n",
       "    </tr>\n",
       "    <tr>\n",
       "      <th>3</th>\n",
       "      <td>10000500889</td>\n",
       "      <td>AL</td>\n",
       "      <td>Elementary</td>\n",
       "      <td>Regular school</td>\n",
       "      <td>908.0</td>\n",
       "      <td>49.0</td>\n",
       "      <td>18.53</td>\n",
       "      <td>4.0</td>\n",
       "      <td>4.0</td>\n",
       "      <td>48.0</td>\n",
       "      <td>0.0</td>\n",
       "      <td>497.0</td>\n",
       "      <td>15.0</td>\n",
       "      <td>340.0</td>\n",
       "    </tr>\n",
       "    <tr>\n",
       "      <th>4</th>\n",
       "      <td>10000501616</td>\n",
       "      <td>AL</td>\n",
       "      <td>Elementary</td>\n",
       "      <td>Regular school</td>\n",
       "      <td>556.0</td>\n",
       "      <td>30.0</td>\n",
       "      <td>18.53</td>\n",
       "      <td>4.0</td>\n",
       "      <td>2.0</td>\n",
       "      <td>33.0</td>\n",
       "      <td>0.0</td>\n",
       "      <td>288.0</td>\n",
       "      <td>13.0</td>\n",
       "      <td>216.0</td>\n",
       "    </tr>\n",
       "    <tr>\n",
       "      <th>...</th>\n",
       "      <td>...</td>\n",
       "      <td>...</td>\n",
       "      <td>...</td>\n",
       "      <td>...</td>\n",
       "      <td>...</td>\n",
       "      <td>...</td>\n",
       "      <td>...</td>\n",
       "      <td>...</td>\n",
       "      <td>...</td>\n",
       "      <td>...</td>\n",
       "      <td>...</td>\n",
       "      <td>...</td>\n",
       "      <td>...</td>\n",
       "      <td>...</td>\n",
       "    </tr>\n",
       "    <tr>\n",
       "      <th>100717</th>\n",
       "      <td>780003000024</td>\n",
       "      <td>VI</td>\n",
       "      <td>Elementary</td>\n",
       "      <td>Regular school</td>\n",
       "      <td>328.0</td>\n",
       "      <td>26.0</td>\n",
       "      <td>12.62</td>\n",
       "      <td>NaN</td>\n",
       "      <td>7.0</td>\n",
       "      <td>254.0</td>\n",
       "      <td>NaN</td>\n",
       "      <td>59.0</td>\n",
       "      <td>2.0</td>\n",
       "      <td>6.0</td>\n",
       "    </tr>\n",
       "    <tr>\n",
       "      <th>100718</th>\n",
       "      <td>780003000026</td>\n",
       "      <td>VI</td>\n",
       "      <td>Elementary</td>\n",
       "      <td>Regular school</td>\n",
       "      <td>477.0</td>\n",
       "      <td>25.0</td>\n",
       "      <td>19.08</td>\n",
       "      <td>1.0</td>\n",
       "      <td>4.0</td>\n",
       "      <td>394.0</td>\n",
       "      <td>2.0</td>\n",
       "      <td>64.0</td>\n",
       "      <td>3.0</td>\n",
       "      <td>9.0</td>\n",
       "    </tr>\n",
       "    <tr>\n",
       "      <th>100719</th>\n",
       "      <td>780003000027</td>\n",
       "      <td>VI</td>\n",
       "      <td>Elementary</td>\n",
       "      <td>Regular school</td>\n",
       "      <td>397.0</td>\n",
       "      <td>29.0</td>\n",
       "      <td>13.69</td>\n",
       "      <td>1.0</td>\n",
       "      <td>7.0</td>\n",
       "      <td>322.0</td>\n",
       "      <td>1.0</td>\n",
       "      <td>57.0</td>\n",
       "      <td>NaN</td>\n",
       "      <td>9.0</td>\n",
       "    </tr>\n",
       "    <tr>\n",
       "      <th>100720</th>\n",
       "      <td>780003000033</td>\n",
       "      <td>VI</td>\n",
       "      <td>Middle</td>\n",
       "      <td>Regular school</td>\n",
       "      <td>763.0</td>\n",
       "      <td>62.0</td>\n",
       "      <td>12.31</td>\n",
       "      <td>1.0</td>\n",
       "      <td>7.0</td>\n",
       "      <td>583.0</td>\n",
       "      <td>NaN</td>\n",
       "      <td>153.0</td>\n",
       "      <td>1.0</td>\n",
       "      <td>18.0</td>\n",
       "    </tr>\n",
       "    <tr>\n",
       "      <th>100721</th>\n",
       "      <td>780003000034</td>\n",
       "      <td>VI</td>\n",
       "      <td>Middle</td>\n",
       "      <td>Regular school</td>\n",
       "      <td>577.0</td>\n",
       "      <td>47.0</td>\n",
       "      <td>12.28</td>\n",
       "      <td>NaN</td>\n",
       "      <td>4.0</td>\n",
       "      <td>516.0</td>\n",
       "      <td>NaN</td>\n",
       "      <td>55.0</td>\n",
       "      <td>NaN</td>\n",
       "      <td>2.0</td>\n",
       "    </tr>\n",
       "  </tbody>\n",
       "</table>\n",
       "<p>100722 rows × 14 columns</p>\n",
       "</div>"
      ],
      "text/plain": [
       "             NCESSCH LSTATE SCHOOL_LEVEL SCHOOL_TYPE_TEXT   TOTAL   FTE  \\\n",
       "0        10000500870     AL       Middle   Regular school   908.0  42.0   \n",
       "1        10000500871     AL         High   Regular school  1606.0  82.0   \n",
       "2        10000500879     AL       Middle   Regular school   891.0  41.0   \n",
       "3        10000500889     AL   Elementary   Regular school   908.0  49.0   \n",
       "4        10000501616     AL   Elementary   Regular school   556.0  30.0   \n",
       "...              ...    ...          ...              ...     ...   ...   \n",
       "100717  780003000024     VI   Elementary   Regular school   328.0  26.0   \n",
       "100718  780003000026     VI   Elementary   Regular school   477.0  25.0   \n",
       "100719  780003000027     VI   Elementary   Regular school   397.0  29.0   \n",
       "100720  780003000033     VI       Middle   Regular school   763.0  62.0   \n",
       "100721  780003000034     VI       Middle   Regular school   577.0  47.0   \n",
       "\n",
       "        STUTERATIO   AM   AS     BL   HP     HI    TR     WH  \n",
       "0            21.62  2.0  4.0   33.0  0.0  469.0  29.0  371.0  \n",
       "1            19.59  1.0  6.0   70.0  0.0  785.0  38.0  706.0  \n",
       "2            21.73  4.0  7.0   24.0  1.0  481.0  29.0  345.0  \n",
       "3            18.53  4.0  4.0   48.0  0.0  497.0  15.0  340.0  \n",
       "4            18.53  4.0  2.0   33.0  0.0  288.0  13.0  216.0  \n",
       "...            ...  ...  ...    ...  ...    ...   ...    ...  \n",
       "100717       12.62  NaN  7.0  254.0  NaN   59.0   2.0    6.0  \n",
       "100718       19.08  1.0  4.0  394.0  2.0   64.0   3.0    9.0  \n",
       "100719       13.69  1.0  7.0  322.0  1.0   57.0   NaN    9.0  \n",
       "100720       12.31  1.0  7.0  583.0  NaN  153.0   1.0   18.0  \n",
       "100721       12.28  NaN  4.0  516.0  NaN   55.0   NaN    2.0  \n",
       "\n",
       "[100722 rows x 14 columns]"
      ]
     },
     "execution_count": 63,
     "metadata": {},
     "output_type": "execute_result"
    }
   ],
   "source": [
    "# Load the Public school dataset\n",
    "resource_path = Path(\".\\Resources\\public_school_data.csv\")\n",
    "df_data = pd.DataFrame(pd.read_csv(resource_path))\n",
    "df_data"
   ]
  },
  {
   "cell_type": "code",
   "execution_count": 64,
   "id": "ab574b7a-d060-4efb-9507-541e1082fa72",
   "metadata": {},
   "outputs": [
    {
     "data": {
      "text/html": [
       "<div>\n",
       "<style scoped>\n",
       "    .dataframe tbody tr th:only-of-type {\n",
       "        vertical-align: middle;\n",
       "    }\n",
       "\n",
       "    .dataframe tbody tr th {\n",
       "        vertical-align: top;\n",
       "    }\n",
       "\n",
       "    .dataframe thead th {\n",
       "        text-align: right;\n",
       "    }\n",
       "</style>\n",
       "<table border=\"1\" class=\"dataframe\">\n",
       "  <thead>\n",
       "    <tr style=\"text-align: right;\">\n",
       "      <th></th>\n",
       "      <th>ID</th>\n",
       "      <th>LATCOD</th>\n",
       "      <th>LONCOD</th>\n",
       "    </tr>\n",
       "  </thead>\n",
       "  <tbody>\n",
       "    <tr>\n",
       "      <th>0</th>\n",
       "      <td>10000500870</td>\n",
       "      <td>34.260200</td>\n",
       "      <td>-86.206200</td>\n",
       "    </tr>\n",
       "    <tr>\n",
       "      <th>1</th>\n",
       "      <td>10000500871</td>\n",
       "      <td>34.262200</td>\n",
       "      <td>-86.204900</td>\n",
       "    </tr>\n",
       "    <tr>\n",
       "      <th>2</th>\n",
       "      <td>10000500879</td>\n",
       "      <td>34.273300</td>\n",
       "      <td>-86.220100</td>\n",
       "    </tr>\n",
       "    <tr>\n",
       "      <th>3</th>\n",
       "      <td>10000500889</td>\n",
       "      <td>34.252700</td>\n",
       "      <td>-86.221806</td>\n",
       "    </tr>\n",
       "    <tr>\n",
       "      <th>4</th>\n",
       "      <td>10000501616</td>\n",
       "      <td>34.289800</td>\n",
       "      <td>-86.193300</td>\n",
       "    </tr>\n",
       "    <tr>\n",
       "      <th>...</th>\n",
       "      <td>...</td>\n",
       "      <td>...</td>\n",
       "      <td>...</td>\n",
       "    </tr>\n",
       "    <tr>\n",
       "      <th>100717</th>\n",
       "      <td>780003000024</td>\n",
       "      <td>18.341950</td>\n",
       "      <td>-64.917602</td>\n",
       "    </tr>\n",
       "    <tr>\n",
       "      <th>100718</th>\n",
       "      <td>780003000026</td>\n",
       "      <td>18.338742</td>\n",
       "      <td>-64.952483</td>\n",
       "    </tr>\n",
       "    <tr>\n",
       "      <th>100719</th>\n",
       "      <td>780003000027</td>\n",
       "      <td>18.354782</td>\n",
       "      <td>-64.899024</td>\n",
       "    </tr>\n",
       "    <tr>\n",
       "      <th>100720</th>\n",
       "      <td>780003000033</td>\n",
       "      <td>18.336658</td>\n",
       "      <td>-64.945940</td>\n",
       "    </tr>\n",
       "    <tr>\n",
       "      <th>100721</th>\n",
       "      <td>780003000034</td>\n",
       "      <td>18.318230</td>\n",
       "      <td>-64.890311</td>\n",
       "    </tr>\n",
       "  </tbody>\n",
       "</table>\n",
       "<p>100722 rows × 3 columns</p>\n",
       "</div>"
      ],
      "text/plain": [
       "                  ID     LATCOD     LONCOD\n",
       "0        10000500870  34.260200 -86.206200\n",
       "1        10000500871  34.262200 -86.204900\n",
       "2        10000500879  34.273300 -86.220100\n",
       "3        10000500889  34.252700 -86.221806\n",
       "4        10000501616  34.289800 -86.193300\n",
       "...              ...        ...        ...\n",
       "100717  780003000024  18.341950 -64.917602\n",
       "100718  780003000026  18.338742 -64.952483\n",
       "100719  780003000027  18.354782 -64.899024\n",
       "100720  780003000033  18.336658 -64.945940\n",
       "100721  780003000034  18.318230 -64.890311\n",
       "\n",
       "[100722 rows x 3 columns]"
      ]
     },
     "execution_count": 64,
     "metadata": {},
     "output_type": "execute_result"
    }
   ],
   "source": [
    "# Load the Public school locations dataset\n",
    "resource_path = Path(\".\\Resources\\public_school_locations.csv\")\n",
    "df_locations = pd.DataFrame(pd.read_csv(resource_path))\n",
    "df_locations"
   ]
  },
  {
   "cell_type": "code",
   "execution_count": 65,
   "id": "9321098c-24d5-4349-9a0d-834d57dab400",
   "metadata": {},
   "outputs": [
    {
     "data": {
      "text/plain": [
       "False"
      ]
     },
     "execution_count": 65,
     "metadata": {},
     "output_type": "execute_result"
    }
   ],
   "source": [
    "# Load the Public school data dictionary file\n",
    "resource_path = Path(\".\\Resources\\school_data_dictionary.csv\")\n",
    "df_dictionary = pd.DataFrame(pd.read_csv(resource_path))\n",
    "df_dictionary[\"Fields\"].__contains__(\"NCESSCH\")\n"
   ]
  },
  {
   "cell_type": "markdown",
   "id": "9b5c714d-1c47-4532-b349-f31018c2ee7e",
   "metadata": {},
   "source": [
    "## Data Exploration and Preparation"
   ]
  },
  {
   "cell_type": "code",
   "execution_count": 66,
   "id": "07b2ff0a-a818-4f2e-b115-2c23ebdb7347",
   "metadata": {},
   "outputs": [
    {
     "data": {
      "text/plain": [
       "array([ True,  True,  True,  True,  True,  True,  True,  True,  True,\n",
       "        True,  True,  True,  True,  True])"
      ]
     },
     "execution_count": 66,
     "metadata": {},
     "output_type": "execute_result"
    }
   ],
   "source": [
    "# Use an .isin() function to keep only columns in df_data which match field names in df_dictionary.\n",
    "# Identify the unique ID column.\n",
    "df_temp = df_data.columns.isin(df_dictionary[\"Fields\"])\n",
    "df_temp\n",
    "\n",
    "#df_data.isin"
   ]
  },
  {
   "cell_type": "code",
   "execution_count": 67,
   "id": "88e8adad-acf9-4364-abbd-fc0f58478867",
   "metadata": {},
   "outputs": [],
   "source": [
    "# Ensure the column you selected is indeed a unique identifier by checking the number of uniqe values and comparing it to the number of rows in the dataframe\n",
    "\n",
    "\n"
   ]
  },
  {
   "cell_type": "code",
   "execution_count": 68,
   "id": "b5895fe0-a0d2-4df1-b5f1-6a8ed3a8a3b0",
   "metadata": {},
   "outputs": [],
   "source": [
    "# Change the names of the unique ID column in both the location data and public school data to match and set them as index\n",
    "\n",
    "\n"
   ]
  },
  {
   "cell_type": "code",
   "execution_count": 69,
   "id": "518cefb0-fec0-4c66-9d6f-1ecf6196acfc",
   "metadata": {},
   "outputs": [],
   "source": [
    "# Check your work"
   ]
  },
  {
   "cell_type": "code",
   "execution_count": 70,
   "id": "b8fd0a6d-1c51-4db7-b7b9-8cb2e2c0b879",
   "metadata": {},
   "outputs": [],
   "source": [
    "# Check your work"
   ]
  },
  {
   "cell_type": "code",
   "execution_count": 71,
   "id": "fe362bf6-9829-4c19-929b-a255ad8a004f",
   "metadata": {},
   "outputs": [],
   "source": [
    "# Join the location and data dataframes together\n",
    "\n"
   ]
  },
  {
   "cell_type": "code",
   "execution_count": 72,
   "id": "136c325e-f07b-41cd-b5e9-9573675d5485",
   "metadata": {},
   "outputs": [],
   "source": [
    "# Get the value counts for the school type column\n"
   ]
  },
  {
   "cell_type": "code",
   "execution_count": 73,
   "id": "99f87e68-5766-4965-b040-aabaa79ed96b",
   "metadata": {},
   "outputs": [],
   "source": [
    "# Create a subset of the dataframe that only includes regular schools ensure it was successful by comparing rows in the subset to the value counts above\n",
    "\n"
   ]
  },
  {
   "cell_type": "markdown",
   "id": "00a498d3-e82a-479a-b3f3-ca3d4a46e787",
   "metadata": {},
   "source": [
    "## Data Cleaning and dealing with nulls"
   ]
  },
  {
   "cell_type": "code",
   "execution_count": 74,
   "id": "eb046205-7c50-431a-93ff-3ce3950d1668",
   "metadata": {},
   "outputs": [],
   "source": [
    "# Check for nulls and determine the best approach for dealing with them\n"
   ]
  },
  {
   "cell_type": "code",
   "execution_count": 75,
   "id": "9b475f58-df81-4d29-8daf-486d62bceae5",
   "metadata": {},
   "outputs": [],
   "source": [
    "# Fill some of the columns with 0 where it makes sense\n",
    "\n"
   ]
  },
  {
   "cell_type": "code",
   "execution_count": 76,
   "id": "5cad43d6-8d29-450e-8a24-c9e7524b3e99",
   "metadata": {},
   "outputs": [],
   "source": [
    "# Verify changes to nulls and prepare to drop na\n"
   ]
  },
  {
   "cell_type": "code",
   "execution_count": 77,
   "id": "c579c438-11e1-417f-b7e4-16c4fd1aa3c0",
   "metadata": {},
   "outputs": [],
   "source": [
    "# Drop remaining nulls wher it would make sense\n",
    "\n"
   ]
  },
  {
   "cell_type": "code",
   "execution_count": 78,
   "id": "f8fb04d0-79d1-4ea1-b995-be79190644b7",
   "metadata": {},
   "outputs": [],
   "source": [
    "# Verify changes to nulls and no nulls should remain\n"
   ]
  },
  {
   "cell_type": "markdown",
   "id": "94b0396d-1b61-492f-abe8-ed6ad3482f4d",
   "metadata": {},
   "source": [
    "## Plotting to help Clean the Data"
   ]
  },
  {
   "cell_type": "code",
   "execution_count": 79,
   "id": "f33bc272-be71-43dc-9cfb-cde1edcb2fee",
   "metadata": {},
   "outputs": [],
   "source": [
    "# Plot a histogram of Total enrolled students and check for outliers\n"
   ]
  },
  {
   "cell_type": "code",
   "execution_count": 80,
   "id": "ba8b0e8f-f81f-483e-9fca-0c6d06ccbaf3",
   "metadata": {},
   "outputs": [],
   "source": [
    "# Plot a histogram of Total Teachers and check for outliers\n"
   ]
  },
  {
   "cell_type": "code",
   "execution_count": 81,
   "id": "aaf94346-5886-4517-b971-e07ad091bbc1",
   "metadata": {},
   "outputs": [],
   "source": [
    "# Plot a histogram of Student Teacher Ratio and check for outliers\n"
   ]
  },
  {
   "cell_type": "code",
   "execution_count": 82,
   "id": "01b5a36c-7d94-48d0-8ac6-d2fd12e88d59",
   "metadata": {},
   "outputs": [],
   "source": [
    "# Re-Plot a histogram of Total enrolled students after removing 0s and outliers above the 99th quantile\n",
    "\n",
    "\n"
   ]
  },
  {
   "cell_type": "code",
   "execution_count": 83,
   "id": "f2f104a9-1c7c-44bd-b3ca-694972a5838c",
   "metadata": {},
   "outputs": [],
   "source": [
    "# Re-Plot a histogram of Total Teachers after removing 0s and outliers above the 99th quantile\n",
    "\n",
    "\n"
   ]
  },
  {
   "cell_type": "code",
   "execution_count": 84,
   "id": "5099b089-dd01-4015-a089-d7c8c5fe0a50",
   "metadata": {},
   "outputs": [],
   "source": [
    "# Re-Plot a histogram of Student Teacher Ratio after removing 0s and outliers above the 99th quantile\n",
    "\n",
    "\n"
   ]
  },
  {
   "cell_type": "markdown",
   "id": "be8a5465-1729-4224-8d67-a3bb7d2e36db",
   "metadata": {},
   "source": [
    "## Correlation Plot to Understand Data Relationships"
   ]
  },
  {
   "cell_type": "code",
   "execution_count": 85,
   "id": "eba2a690-97c0-4cbb-8eee-e3f59ea2d7b7",
   "metadata": {},
   "outputs": [],
   "source": [
    "# Use seaborn to generate a correlation heatmap for the columns in the dataframe\n",
    "\n",
    "\n",
    "\n"
   ]
  },
  {
   "cell_type": "markdown",
   "id": "2c7d5297-4123-4304-828f-fab95f809b9e",
   "metadata": {},
   "source": [
    "## Geographic Plots"
   ]
  },
  {
   "cell_type": "code",
   "execution_count": 86,
   "id": "ea105476-cb58-4e1b-b6e4-48f0dce896ae",
   "metadata": {},
   "outputs": [],
   "source": [
    "# Plot only schools from the 48 contiguous US states or the 50 US states (drop territories and PR)\n",
    "\n",
    "\n",
    "\n"
   ]
  },
  {
   "cell_type": "code",
   "execution_count": 87,
   "id": "4d40e365-a229-4cb4-bff9-e1047a2ed42e",
   "metadata": {},
   "outputs": [],
   "source": [
    "# Plot only schools in your state\n",
    "\n",
    "\n",
    "\n"
   ]
  },
  {
   "cell_type": "markdown",
   "id": "6cfe5be1-7121-47e0-8aa8-7f08a7673ee5",
   "metadata": {},
   "source": [
    "## School Quality Analysis: Student/Teacher Ratios"
   ]
  },
  {
   "cell_type": "code",
   "execution_count": 88,
   "id": "83b36d34-4510-486c-baeb-388a77761482",
   "metadata": {},
   "outputs": [],
   "source": [
    "# Use the dataframe that has filtered out the outliers in Student Teacher Ratio and group by state and get the average\n",
    "# Show the highest 5 Student/Teacher ratios and lowest 5 Student/Teacher ratios as well as the average for your state\n",
    "\n"
   ]
  },
  {
   "cell_type": "code",
   "execution_count": 89,
   "id": "4506185c-6937-4f27-a89e-3521dcae2075",
   "metadata": {},
   "outputs": [],
   "source": [
    "# What is the mean of the Student/Teacher Ratio\n"
   ]
  },
  {
   "cell_type": "code",
   "execution_count": 90,
   "id": "5b45a37e-99d6-45ab-bf2f-6aa088feb2a9",
   "metadata": {},
   "outputs": [],
   "source": [
    "# What is the standard deviation of the Student/Teacher Ratio\n"
   ]
  },
  {
   "cell_type": "code",
   "execution_count": 91,
   "id": "ce2f701d-fbce-4634-a279-50812760740e",
   "metadata": {},
   "outputs": [],
   "source": [
    "# Plot the states ratios in descending order\n"
   ]
  },
  {
   "cell_type": "code",
   "execution_count": 92,
   "id": "9c6cf9f8-ca2d-46c6-8ac6-38b934569d07",
   "metadata": {},
   "outputs": [],
   "source": [
    "# Plot a boxplot of the Student/Teacher Ratios\n"
   ]
  },
  {
   "cell_type": "code",
   "execution_count": 93,
   "id": "7995326b-69ba-4e77-9a72-85ea5af21e47",
   "metadata": {},
   "outputs": [],
   "source": [
    "# List or Plot the Highest 5 states\n",
    "\n"
   ]
  },
  {
   "cell_type": "code",
   "execution_count": 94,
   "id": "c713481a-8309-4af8-8b99-5210277ecfdf",
   "metadata": {},
   "outputs": [],
   "source": [
    "# List or plot the lowest 5\n",
    "\n"
   ]
  },
  {
   "cell_type": "code",
   "execution_count": 95,
   "id": "506836d8-96e1-46fe-890a-53dcf9f4fa27",
   "metadata": {},
   "outputs": [],
   "source": [
    "# Print your state's Student Teacher Ratios\n",
    "\n"
   ]
  },
  {
   "cell_type": "markdown",
   "id": "c5483b02-4800-4861-be2c-5df701c7c236",
   "metadata": {},
   "source": [
    "## Summarize your findings from any of the analysis or plots above:\n",
    "* Were there any interesting Correlations?\n",
    "* How did your state compare to others?\n",
    "* Would you have made any different decisions in the earlier cleaning stages after becoming more familiar with the data?\n",
    "* What is going on in IL?\n",
    "* What other analysis could be done with this data?"
   ]
  },
  {
   "cell_type": "markdown",
   "id": "1ad4d2bc-989d-4dd9-9925-1cf1d6e737a1",
   "metadata": {},
   "source": [
    "## BONUS: Generate other interesting analysis or plots"
   ]
  },
  {
   "cell_type": "code",
   "execution_count": 96,
   "id": "630d6d42-481b-4c57-ad6d-1fec27713850",
   "metadata": {},
   "outputs": [],
   "source": [
    "# Your code below\n"
   ]
  }
 ],
 "metadata": {
  "kernelspec": {
   "display_name": "Python 3 (ipykernel)",
   "language": "python",
   "name": "python3"
  },
  "language_info": {
   "codemirror_mode": {
    "name": "ipython",
    "version": 3
   },
   "file_extension": ".py",
   "mimetype": "text/x-python",
   "name": "python",
   "nbconvert_exporter": "python",
   "pygments_lexer": "ipython3",
   "version": "3.11.5"
  }
 },
 "nbformat": 4,
 "nbformat_minor": 5
}
